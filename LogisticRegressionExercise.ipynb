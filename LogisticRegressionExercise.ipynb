{
 "cells": [
  {
   "cell_type": "markdown",
   "metadata": {},
   "source": [
    "This is code for performing logistic regression in two ways:\n",
    "1) Using a gradient descent optimizer that I build from scratch.\n",
    "3) Using scikit-learn's built in tool.\n",
    "\n",
    "The models are tested using datasets that were taken from Andrew Ng's Machine Learning course on Coursera."
   ]
  },
  {
   "cell_type": "code",
   "execution_count": 1,
   "metadata": {},
   "outputs": [],
   "source": [
    "import numpy as np\n",
    "import Single_Layer_Optimizers # This defines various shallow learning classes, such as linear and logistic regression.\n",
    "import matplotlib.pyplot as plt\n",
    "from sklearn.linear_model import LogisticRegression"
   ]
  },
  {
   "cell_type": "code",
   "execution_count": null,
   "metadata": {
    "collapsed": true
   },
   "outputs": [],
   "source": [
    "# Load a basic classification dataset\n",
    "file = open('classification_data.txt')\n",
    "data = np.array([[float(number) for number in line.split(',')] for line in file.readlines()])\n",
    "file.close()"
   ]
  },
  {
   "cell_type": "code",
   "execution_count": null,
   "metadata": {},
   "outputs": [],
   "source": [
    "# Run the Logistic Regression\n",
    "lr = Single_Layer_Optimizers.Logistic_Regression(data)\n",
    "lr.fit(alpha = .3, iterations = 1000, init = 'zeros', val_set_fraction = 0)\n",
    "\n",
    "# Plot the cost\n",
    "lr.plot_cost()\n",
    "lr.predict(dataset = 'train')\n",
    "lr.Classification_Accuracy()"
   ]
  },
  {
   "cell_type": "code",
   "execution_count": null,
   "metadata": {},
   "outputs": [],
   "source": [
    "# 2D visualization of the data predictions\n",
    "class_bool = np.rint(lr.predictions) == 1\n",
    "class1 = lr.train_data[class_bool, :]\n",
    "class2 = lr.train_data[class_bool == 0, :]\n",
    "plt.plot(class1[:,1], class1[:,2], 'bo', class2[:,1], class2[:,2], 'rx')\n",
    "plt.xlabel('feature1')\n",
    "plt.ylabel('feature2')\n",
    "plt.show()"
   ]
  },
  {
   "cell_type": "code",
   "execution_count": null,
   "metadata": {},
   "outputs": [],
   "source": [
    "#### COMPARE RESULTS TO SKLEARN, USING SAME TRAINING DATA ####\n",
    "lr.Classification_Accuracy()\n",
    "LR = LogisticRegression().fit(lr.train_data[:,1:], lr.train_target)\n",
    "print(\"sklearn results in an accuracy of \", LR.score(lr.train_data[:,1:], lr.train_target))"
   ]
  },
  {
   "cell_type": "code",
   "execution_count": null,
   "metadata": {
    "collapsed": true
   },
   "outputs": [],
   "source": []
  },
  {
   "cell_type": "code",
   "execution_count": null,
   "metadata": {
    "collapsed": true
   },
   "outputs": [],
   "source": [
    "# Load a challenging classification dataset\n",
    "file = open('classification_data_2.txt')\n",
    "data = np.array([[float(number) for number in line.split(',')] for line in file.readlines()])\n",
    "file.close()"
   ]
  },
  {
   "cell_type": "code",
   "execution_count": null,
   "metadata": {},
   "outputs": [],
   "source": [
    "# Add squared terms to the data\n",
    "data = np.c_[data[:,0:2], np.square(data[:,0]), np.square(data[:,1]), \\\n",
    "             np.square(data[:,0])*np.square(data[:,1]), data[:,-1]]"
   ]
  },
  {
   "cell_type": "code",
   "execution_count": null,
   "metadata": {},
   "outputs": [],
   "source": [
    "# Run the Logistic Regression using Regularization\n",
    "lr = Single_Layer_Optimizers.Logistic_Regression(data)\n",
    "lr.fit(alpha = .3, iterations = 200, init = 'zeros', val_set_fraction = 0, reg_coef = 0.25)\n",
    "\n",
    "# Plot the cost\n",
    "lr.plot_cost()\n",
    "lr.predict(dataset = 'train')\n",
    "lr.Classification_Accuracy()"
   ]
  },
  {
   "cell_type": "code",
   "execution_count": null,
   "metadata": {},
   "outputs": [],
   "source": [
    "#### COMPARE RESULTS TO SKLEARN, USING SAME TRAINING DATA ####\n",
    "lr.Classification_Accuracy()\n",
    "LR = LogisticRegression(C=2).fit(lr.train_data[:,1:], lr.train_target)\n",
    "print(\"sklearn results in an accuracy of \", LR.score(lr.train_data[:,1:], lr.train_target))"
   ]
  },
  {
   "cell_type": "code",
   "execution_count": null,
   "metadata": {},
   "outputs": [],
   "source": [
    "print('My weights were ', lr.weights)\n",
    "print('Sklearn weights were ', LR.intercept_, LR.coef_)"
   ]
  },
  {
   "cell_type": "code",
   "execution_count": null,
   "metadata": {},
   "outputs": [],
   "source": [
    "# 2D visualization of the data predictions\n",
    "class_bool = np.rint(lr.predictions) == 1\n",
    "class1 = lr.train_data[class_bool, :]\n",
    "class2 = lr.train_data[class_bool == 0, :]\n",
    "plt.plot(class1[:,1], class1[:,2], 'bo', class2[:,1], class2[:,2], 'rx')\n",
    "plt.xlabel('feature1')\n",
    "plt.ylabel('feature2')\n",
    "plt.show()"
   ]
  },
  {
   "cell_type": "code",
   "execution_count": null,
   "metadata": {
    "collapsed": true
   },
   "outputs": [],
   "source": []
  }
 ],
 "metadata": {
  "anaconda-cloud": {},
  "kernelspec": {
   "display_name": "Python [default]",
   "language": "python",
   "name": "python3"
  },
  "language_info": {
   "codemirror_mode": {
    "name": "ipython",
    "version": 3
   },
   "file_extension": ".py",
   "mimetype": "text/x-python",
   "name": "python",
   "nbconvert_exporter": "python",
   "pygments_lexer": "ipython3",
   "version": "3.5.6"
  }
 },
 "nbformat": 4,
 "nbformat_minor": 1
}
